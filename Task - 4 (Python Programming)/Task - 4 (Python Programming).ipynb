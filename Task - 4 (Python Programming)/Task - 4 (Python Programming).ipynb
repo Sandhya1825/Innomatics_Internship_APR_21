{
 "cells": [
  {
   "cell_type": "code",
   "execution_count": 1,
   "metadata": {},
   "outputs": [
    {
     "name": "stdout",
     "output_type": "stream",
     "text": [
      "Enter first name:Ross\n",
      "Enter last name:Taylor\n",
      "Hello Ross Taylor! You just delved into python.\n"
     ]
    }
   ],
   "source": [
    "#1. You are given the firstname and lastname of a person on two different lines. \n",
    "#Your task is to read them and print the following:\n",
    "\n",
    "a=input(\"Enter first name:\")\n",
    "b=input(\"Enter last name:\")\n",
    "print(\"Hello {} {}! You just delved into python.\".format(a,b))"
   ]
  },
  {
   "cell_type": "code",
   "execution_count": 2,
   "metadata": {},
   "outputs": [
    {
     "name": "stdout",
     "output_type": "stream",
     "text": [
      "Enter a string:HackerRank.com presents \"Pythonist 2\".\n",
      "hACKERrANK.COM PRESENTS \"pYTHONIST 2\".\n"
     ]
    }
   ],
   "source": [
    "#2. You are given a string and your task is to swap cases. In other words, convert all lowercase letters to uppercase \n",
    "#letters and vice versa.\n",
    "\n",
    "txt=input(\"Enter a string:\")\n",
    "print(txt.swapcase())"
   ]
  },
  {
   "cell_type": "code",
   "execution_count": 3,
   "metadata": {},
   "outputs": [
    {
     "name": "stdout",
     "output_type": "stream",
     "text": [
      "Enter a string:this is a string\n"
     ]
    },
    {
     "data": {
      "text/plain": [
       "'this-is-a-string'"
      ]
     },
     "execution_count": 3,
     "metadata": {},
     "output_type": "execute_result"
    }
   ],
   "source": [
    "#3. You are given a string. Split the string on a \" \" (space) delimiter and join using a - hyphen.\n",
    "\n",
    "txt=input(\"Enter a string:\")\n",
    "txt=txt.split(\" \")\n",
    "txt=\"-\".join(txt)\n",
    "txt"
   ]
  },
  {
   "cell_type": "code",
   "execution_count": 4,
   "metadata": {},
   "outputs": [
    {
     "name": "stdout",
     "output_type": "stream",
     "text": [
      "Enter a string:ABCDCDC\n",
      "Enter a sub string:CDC\n",
      "2\n"
     ]
    }
   ],
   "source": [
    "#4. In this challenge, the user enters a string and a substring. You have to print the number of times that the substring \n",
    "# occurs in the given string. String traversal will take place from left to right, not from right to left.\n",
    "\n",
    "txt=input(\"Enter a string:\")\n",
    "subt=input(\"Enter a sub string:\")\n",
    "count = 0\n",
    "for i in range(len(txt) - len(subt) + 1):\n",
    "    if(txt[i:i+len(subt)] == subt):\n",
    "        count += 1\n",
    "print(count)"
   ]
  },
  {
   "cell_type": "code",
   "execution_count": 5,
   "metadata": {},
   "outputs": [
    {
     "name": "stdout",
     "output_type": "stream",
     "text": [
      "Enter a string:abracadabra\n",
      "5\n",
      "k\n",
      "Modified String: abrackdabra\n"
     ]
    }
   ],
   "source": [
    "#5. Read a given string, change the character at a given index and then print the modified string.\n",
    "\n",
    "txt=input(\"Enter a string:\")\n",
    "i,c=int(input()),input()\n",
    "print(\"Modified String:\",txt[:i] + c + txt[i+1:])"
   ]
  },
  {
   "cell_type": "code",
   "execution_count": 6,
   "metadata": {},
   "outputs": [
    {
     "name": "stdout",
     "output_type": "stream",
     "text": [
      "Enter a string:qA2\n",
      "True\n",
      "False\n",
      "False\n",
      "False\n",
      "False\n"
     ]
    }
   ],
   "source": [
    "#6. You are given a string .\n",
    "# Your task is to find out if the string  contains: alphanumeric characters, alphabetical characters, digits, lowercase and\n",
    "#uppercase characters.\n",
    "\n",
    "txt=input(\"Enter a string:\")\n",
    "print(txt.isalnum())\n",
    "print(txt.isalpha())\n",
    "print(txt.isdigit())\n",
    "print(txt.islower())\n",
    "print(txt.isupper())"
   ]
  },
  {
   "cell_type": "code",
   "execution_count": 7,
   "metadata": {},
   "outputs": [
    {
     "name": "stdout",
     "output_type": "stream",
     "text": [
      "5\n",
      "    H    \n",
      "   HHH   \n",
      "  HHHHH  \n",
      " HHHHHHH \n",
      "HHHHHHHHH\n",
      "  HHHHH               HHHHH             \n",
      "  HHHHH               HHHHH             \n",
      "  HHHHH               HHHHH             \n",
      "  HHHHH               HHHHH             \n",
      "  HHHHH               HHHHH             \n",
      "  HHHHH               HHHHH             \n",
      "  HHHHHHHHHHHHHHHHHHHHHHHHH   \n",
      "  HHHHHHHHHHHHHHHHHHHHHHHHH   \n",
      "  HHHHHHHHHHHHHHHHHHHHHHHHH   \n",
      "  HHHHH               HHHHH             \n",
      "  HHHHH               HHHHH             \n",
      "  HHHHH               HHHHH             \n",
      "  HHHHH               HHHHH             \n",
      "  HHHHH               HHHHH             \n",
      "  HHHHH               HHHHH             \n",
      "                    HHHHHHHHH \n",
      "                     HHHHHHH  \n",
      "                      HHHHH   \n",
      "                       HHH    \n",
      "                        H     \n"
     ]
    }
   ],
   "source": [
    "#7. You are given a partial code that is used for generating the HackerRank Logo of variable thickness.\n",
    "#Your task is to replace the blank (______) with rjust, ljust or center.\n",
    "\n",
    "thickness = int(input()) #This must be an odd number\n",
    "c = 'H'\n",
    "\n",
    "#Top Cone\n",
    "for i in range(thickness):\n",
    "    print((c*i).rjust(thickness-1)+c+(c*i).ljust(thickness-1))\n",
    "\n",
    "#Top Pillars\n",
    "for i in range(thickness+1):\n",
    "    print((c*thickness).center(thickness*2)+(c*thickness).center(thickness*6))\n",
    "\n",
    "#Middle Belt\n",
    "for i in range((thickness+1)//2):\n",
    "    print((c*thickness*5).center(thickness*6))    \n",
    "\n",
    "#Bottom Pillars\n",
    "for i in range(thickness+1):\n",
    "    print((c*thickness).center(thickness*2)+(c*thickness).center(thickness*6))    \n",
    "\n",
    "#Bottom Cone\n",
    "for i in range(thickness):\n",
    "    print(((c*(thickness-i-1)).rjust(thickness)+c+(c*(thickness-i-1)).ljust(thickness)).rjust(thickness*6))\n"
   ]
  },
  {
   "cell_type": "code",
   "execution_count": 8,
   "metadata": {},
   "outputs": [
    {
     "name": "stdout",
     "output_type": "stream",
     "text": [
      "Enter a string:ABCDEFGHIJKLMNOPQRSTUVWXYZ\n",
      "Enter width:3\n",
      "ABC\n",
      "DEF\n",
      "GHI\n",
      "JKL\n",
      "MNO\n",
      "PQR\n",
      "STU\n",
      "VWX\n",
      "YZ\n"
     ]
    }
   ],
   "source": [
    "#8. You are given a string s and width w.\n",
    "# Your task is to wrap the string into a paragraph of width w.\n",
    "\n",
    "import textwrap\n",
    "s=input(\"Enter a string:\")\n",
    "w=int(input(\"Enter width:\"))\n",
    "print(\"\\n\".join(textwrap.wrap(s,w)))"
   ]
  },
  {
   "cell_type": "code",
   "execution_count": 9,
   "metadata": {},
   "outputs": [
    {
     "name": "stdout",
     "output_type": "stream",
     "text": [
      "Input an integer: 25\n",
      "1  1  1  1\n",
      "2  2  10  2\n",
      "3  3  11  3\n",
      "4  4  100  4\n",
      "5  5  101  5\n",
      "6  6  110  6\n",
      "7  7  111  7\n",
      "10  8  1000  8\n",
      "11  9  1001  9\n",
      "12  a  1010  10\n",
      "13  b  1011  11\n",
      "14  c  1100  12\n",
      "15  d  1101  13\n",
      "16  e  1110  14\n",
      "17  f  1111  15\n",
      "20  10  10000  16\n",
      "21  11  10001  17\n",
      "22  12  10010  18\n",
      "23  13  10011  19\n",
      "24  14  10100  20\n",
      "25  15  10101  21\n",
      "26  16  10110  22\n",
      "27  17  10111  23\n",
      "30  18  11000  24\n",
      "31  19  11001  25\n"
     ]
    }
   ],
   "source": [
    "#9. Given an integer,i, print the following values for each integer i from 1 to n:\n",
    "\n",
    "#Decimal\n",
    "#Octal\n",
    "#Hexadecimal (capitalized)\n",
    "#Binary\n",
    "\n",
    "n = int(input(\"Input an integer: \"))\n",
    "for i in range(1,n+1):\n",
    "    o = str(oct(i))[2:]\n",
    "    h = str(hex(i))[2:]\n",
    "    b = str(bin(i))[2:]\n",
    "    d = str(i)\n",
    "    print(o,'',h,'',b,'',d)"
   ]
  },
  {
   "cell_type": "code",
   "execution_count": 10,
   "metadata": {},
   "outputs": [
    {
     "name": "stdout",
     "output_type": "stream",
     "text": [
      "Enter a name:chris gayle\n",
      "Chris Gayle\n"
     ]
    }
   ],
   "source": [
    "#10. Given a full name, your task is to capitalize the name appropriately.\n",
    "\n",
    "name=input(\"Enter a name:\")\n",
    "parts = name.split(\" \")\n",
    "capitalized_parts = [p.capitalize() for p in parts]\n",
    "capitalized_name = \" \".join(capitalized_parts)\n",
    "print(capitalized_name)"
   ]
  },
  {
   "cell_type": "code",
   "execution_count": 11,
   "metadata": {},
   "outputs": [
    {
     "name": "stdout",
     "output_type": "stream",
     "text": [
      "AABCAAADA\n",
      "3\n",
      "AB\n",
      "CA\n",
      "AD\n"
     ]
    }
   ],
   "source": [
    "#11. There are three substrings of length  to consider: 'AAA', 'BCA' and 'DDE'. The first substring is all 'A' characters, \n",
    "#so . The second substring has all distinct characters, so . The third substring has  different characters, so . \n",
    "#Note that a subsequence maintains the original order of characters encountered. The order of characters in each \n",
    "#subsequence shown is important.\n",
    "\n",
    "def merge_the_tools(string, k):\n",
    "    # your code goes here\n",
    "    temp = []\n",
    "    len_temp = 0\n",
    "    for item in string:\n",
    "        len_temp += 1\n",
    "        if item not in temp:\n",
    "            temp.append(item)\n",
    "        if len_temp == k:\n",
    "            print (''.join(temp))\n",
    "            temp = []\n",
    "            len_temp = 0\n",
    "if __name__ == '__main__':\n",
    "    string, k = input(), int(input())\n",
    "    merge_the_tools(string, k)"
   ]
  },
  {
   "cell_type": "code",
   "execution_count": 12,
   "metadata": {},
   "outputs": [
    {
     "name": "stdout",
     "output_type": "stream",
     "text": [
      "Enter a string:choreographer\n",
      "Winner is Stuart with 91 points\n"
     ]
    }
   ],
   "source": [
    "#12. Kevin and Stuart want to play the 'The Minion Game'.\n",
    "\n",
    "#Game Rules:\n",
    "\n",
    "# Both players are given the same string,S .\n",
    "# Both players have to make substrings using the letters of the string S.\n",
    "# Stuart has to make words starting with consonants.\n",
    "# Kevin has to make words starting with vowels.\n",
    "# The game ends when both players have made all possible substrings.\n",
    "\n",
    "# Scoring:\n",
    "# A player gets +1 point for each occurrence of the substring in the string S.\n",
    "\n",
    "string=input(\"Enter a string:\")\n",
    "l=len(string)\n",
    "\n",
    "stuart=0\n",
    "kevin=0\n",
    "\n",
    "vowels='AEIOU'\n",
    "\n",
    "for i in range(l):\n",
    "    if(string[i] in vowels):\n",
    "        kevin=kevin+l-i\n",
    "    if(string[i] not in vowels):\n",
    "        stuart=stuart+l-i\n",
    "        \n",
    "if(kevin > stuart):\n",
    "    print(\"Winner is Kevin with {} points\".format(kevin))\n",
    "elif(stuart > kevin):\n",
    "    print(\"Winner is Stuart with {} points\".format(stuart))\n",
    "else:\n",
    "    print(\"Draw\")"
   ]
  },
  {
   "cell_type": "code",
   "execution_count": 13,
   "metadata": {},
   "outputs": [
    {
     "name": "stdout",
     "output_type": "stream",
     "text": [
      "9 27\n",
      "------------.|.------------\n",
      "---------.|..|..|.---------\n",
      "------.|..|..|..|..|.------\n",
      "---.|..|..|..|..|..|..|.---\n",
      "----------WELCOME----------\n",
      "---.|..|..|..|..|..|..|.---\n",
      "------.|..|..|..|..|.------\n",
      "---------.|..|..|.---------\n",
      "------------.|.------------\n"
     ]
    }
   ],
   "source": [
    "#13. Vincent works in a door mat manufacturing company. One day, he designed a new door mat with the following specifications:\n",
    "\n",
    "# Mat size must be N X M. ( N is an odd natural number, and M is 3 times N.)\n",
    "# The design should have 'WELCOME' written in the center.\n",
    "# The design pattern should only use |, . and - characters.\n",
    "\n",
    "N, M = map(int, input().split())\n",
    "for i in range(1, N, 2):\n",
    "    print(str('.|.' * i).center(M, '-'))\n",
    "print('WELCOME'.center(M, '-'))\n",
    "for i in range(N-2, -1, -2):\n",
    "    print(str('.|.' * i).center(M, '-'))"
   ]
  },
  {
   "cell_type": "code",
   "execution_count": 14,
   "metadata": {},
   "outputs": [
    {
     "name": "stdout",
     "output_type": "stream",
     "text": [
      "5\n",
      "--------e--------\n",
      "------e-d-e------\n",
      "----e-d-c-d-e----\n",
      "--e-d-c-b-c-d-e--\n",
      "e-d-c-b-a-b-c-d-e\n",
      "--e-d-c-b-c-d-e--\n",
      "----e-d-c-d-e----\n",
      "------e-d-e------\n",
      "--------e--------\n"
     ]
    }
   ],
   "source": [
    "#14. You are given an integer, N. Your task is to print an alphabet rangoli of size . (Rangoli is a form of Indian folk art \n",
    "# based on creation of patterns.)\n",
    "\n",
    "import string\n",
    "\n",
    "N = int(input())\n",
    "\n",
    "mid = N - 1\n",
    "\n",
    "for i in range(N - 1, 0, -1):\n",
    "    row = ['-'] * (2 * N - 1)\n",
    "    for j in range(N - i):\n",
    "        row[mid - j] = row[mid + j] = string.ascii_lowercase[j + i]\n",
    "    print('-'.join(row))\n",
    "\n",
    "for i in range(0, N):\n",
    "    row = ['-'] * (2 * N - 1)\n",
    "    for j in range(0, N - i):\n",
    "        row[mid - j] = row[mid + j] = string.ascii_lowercase[j + i]\n",
    "    print('-'.join(row))"
   ]
  }
 ],
 "metadata": {
  "kernelspec": {
   "display_name": "Python 3",
   "language": "python",
   "name": "python3"
  },
  "language_info": {
   "codemirror_mode": {
    "name": "ipython",
    "version": 3
   },
   "file_extension": ".py",
   "mimetype": "text/x-python",
   "name": "python",
   "nbconvert_exporter": "python",
   "pygments_lexer": "ipython3",
   "version": "3.7.3"
  }
 },
 "nbformat": 4,
 "nbformat_minor": 2
}
