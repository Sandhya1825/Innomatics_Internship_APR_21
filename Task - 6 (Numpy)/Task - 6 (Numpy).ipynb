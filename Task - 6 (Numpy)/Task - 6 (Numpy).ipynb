{
 "cells": [
  {
   "cell_type": "code",
   "execution_count": 4,
   "metadata": {},
   "outputs": [
    {
     "name": "stdout",
     "output_type": "stream",
     "text": [
      "1 2 3 4 -8 -10\n",
      "Resultant reversed array will be: [-10.  -8.   4.   3.   2.   1.]\n"
     ]
    }
   ],
   "source": [
    "#1. You are given a space separated list of numbers.\n",
    "# Your task is to print a reversed NumPy array with the element type float.\n",
    "\n",
    "import numpy as np\n",
    "a=np.array(input().split(\" \"),float)\n",
    "rev=a[::-1]\n",
    "print(\"Resultant reversed array will be:\",rev)"
   ]
  },
  {
   "cell_type": "code",
   "execution_count": 11,
   "metadata": {},
   "outputs": [
    {
     "name": "stdout",
     "output_type": "stream",
     "text": [
      "1 2 3 4 5 6 7 8 9\n",
      "[[1 2 3]\n",
      " [4 5 6]\n",
      " [7 8 9]]\n"
     ]
    }
   ],
   "source": [
    "#2. You are given a space separated list of nine integers. Your task is to convert this list into a M X N NumPy array.\n",
    "\n",
    "import numpy as np\n",
    "\n",
    "lst = np.array(input().split(' '), int)\n",
    "print(lst.reshape(3, 3))"
   ]
  },
  {
   "cell_type": "code",
   "execution_count": 29,
   "metadata": {},
   "outputs": [
    {
     "name": "stdout",
     "output_type": "stream",
     "text": [
      "Enter no. of rows:3\n",
      "Enter no. of columns:2\n",
      "2 2 1 2 3 4\n",
      "[[2 2]\n",
      " [1 2]\n",
      " [3 4]]\n",
      "Transpose of a matrix: [[2 1 3]\n",
      " [2 2 4]]\n",
      "Flattened array: [2 2 1 2 3 4]\n"
     ]
    }
   ],
   "source": [
    "#3. You are given a M X N integer array matrix with space separated elements (M = rows and N = columns).\n",
    "# Your task is to print the transpose and flatten results.\n",
    "\n",
    "import numpy as np\n",
    "\n",
    "M=int(input(\"Enter no. of rows:\"))\n",
    "N=int(input(\"Enter no. of columns:\"))\n",
    "\n",
    "lst = np.array(input().split(' '), int)\n",
    "matrix= lst.reshape(M, N)\n",
    "print(matrix)\n",
    "\n",
    "print(\"Transpose of a matrix:\",np.transpose(matrix))\n",
    "print(\"Flattened array:\",matrix.flatten())\n"
   ]
  },
  {
   "cell_type": "code",
   "execution_count": 42,
   "metadata": {},
   "outputs": [
    {
     "name": "stdout",
     "output_type": "stream",
     "text": [
      "4 3 2\n",
      "1 2\n",
      "1 2\n",
      "1 2\n",
      "1 2\n",
      "3 4\n",
      "3 4\n",
      "3 4\n",
      "[[1 2]\n",
      " [1 2]\n",
      " [1 2]\n",
      " [1 2]\n",
      " [3 4]\n",
      " [3 4]\n",
      " [3 4]]\n"
     ]
    }
   ],
   "source": [
    "#4. You are given two integer arrays of size N X P and M X P(N & M are rows, and P is the column). Your task is to \n",
    "# concatenate the arrays along axis 0.\n",
    "\n",
    "import numpy as np\n",
    "\n",
    "n,m,p = map(int,input().split())\n",
    "\n",
    "A = np.array([input().split() for _ in range(n)],int)\n",
    "B = np.array([input().split() for _ in range(m)],int)\n",
    "print(np.concatenate((A,B),axis=0))"
   ]
  },
  {
   "cell_type": "code",
   "execution_count": 50,
   "metadata": {},
   "outputs": [
    {
     "name": "stdout",
     "output_type": "stream",
     "text": [
      "3 3 3\n",
      "[[[0 0 0]\n",
      "  [0 0 0]\n",
      "  [0 0 0]]\n",
      "\n",
      " [[0 0 0]\n",
      "  [0 0 0]\n",
      "  [0 0 0]]\n",
      "\n",
      " [[0 0 0]\n",
      "  [0 0 0]\n",
      "  [0 0 0]]]\n",
      "[[[1 1 1]\n",
      "  [1 1 1]\n",
      "  [1 1 1]]\n",
      "\n",
      " [[1 1 1]\n",
      "  [1 1 1]\n",
      "  [1 1 1]]\n",
      "\n",
      " [[1 1 1]\n",
      "  [1 1 1]\n",
      "  [1 1 1]]]\n"
     ]
    }
   ],
   "source": [
    "#5. You are given the shape of the array in the form of space-separated integers, each integer representing the size \n",
    "# of different dimensions, your task is to print an array of the given shape and integer type using the tools \n",
    "# numpy.zeros and numpy.ones.\n",
    "\n",
    "import numpy as np\n",
    "shape= tuple(map(int,input().split()))\n",
    "print(np.zeros(shape,int), np.ones(shape,int), sep='\\n')"
   ]
  },
  {
   "cell_type": "code",
   "execution_count": 5,
   "metadata": {},
   "outputs": [
    {
     "name": "stdout",
     "output_type": "stream",
     "text": [
      "3 3\n",
      "[[1. 0. 0.]\n",
      " [0. 1. 0.]\n",
      " [0. 0. 1.]]\n"
     ]
    }
   ],
   "source": [
    "#6. Your task is to print an array of size N X M with its main diagonal elements as 1's and 0's everywhere else.\n",
    "\n",
    "import numpy as np\n",
    "n,m = map(int,input().split())\n",
    "eye = np.eye(n, m)\n",
    "print(eye)"
   ]
  },
  {
   "cell_type": "code",
   "execution_count": 7,
   "metadata": {},
   "outputs": [
    {
     "name": "stdout",
     "output_type": "stream",
     "text": [
      "1 4\n",
      "1 2 3 4\n",
      "5 6 7 8\n",
      "array: [1 2 3 4]\n",
      "array: [5 6 7 8]\n",
      "Addition: [ 6  8 10 12]\n",
      "Subtraction: [-4 -4 -4 -4]\n",
      "Multiply: [ 5 12 21 32]\n",
      "Integer Division: [0.2        0.33333333 0.42857143 0.5       ]\n",
      "Mod: [1 2 3 4]\n",
      "Power: [    1    64  2187 65536]\n"
     ]
    }
   ],
   "source": [
    "#7. You are given two integer arrays, A and B of dimensions X.\n",
    "# Your task is to perform the following operations: add, subtract, multiply, integer division, mod, power\n",
    "\n",
    "import numpy as np\n",
    "n,m = map(int,input().split())\n",
    "\n",
    "A = np.array(input().split(' '), int)\n",
    "B = np.array(input().split(' '), int)\n",
    "\n",
    "print(\"array:\",A)\n",
    "print(\"array:\",B)\n",
    "\n",
    "print(\"Addition:\",np.add(A,B))\n",
    "print(\"Subtraction:\",np.subtract(A,B))\n",
    "print(\"Multiply:\",np.multiply(A,B))\n",
    "print(\"Integer Division:\",np.divide(A,B))\n",
    "print(\"Mod:\",np.mod(A,B))\n",
    "print(\"Power:\",np.power(A,B))"
   ]
  },
  {
   "cell_type": "code",
   "execution_count": 9,
   "metadata": {},
   "outputs": [
    {
     "name": "stdout",
     "output_type": "stream",
     "text": [
      "1.1 2.2 3.3 4.4 5.5 6.6 7.7 8.8 9.9\n",
      "[1. 2. 3. 4. 5. 6. 7. 8. 9.]\n",
      "[ 2.  3.  4.  5.  6.  7.  8.  9. 10.]\n",
      "[ 1.  2.  3.  4.  6.  7.  8.  9. 10.]\n"
     ]
    }
   ],
   "source": [
    "#8. You are given a 1-D array,A . Your task is to print the floor,ceil and rint of all the elements of A.\n",
    "\n",
    "import numpy as np\n",
    "\n",
    "A = np.array(input().split(' '), float)\n",
    "\n",
    "print(np.floor(A))\n",
    "print(np.ceil(A))\n",
    "print(np.rint(A))"
   ]
  },
  {
   "cell_type": "code",
   "execution_count": 20,
   "metadata": {},
   "outputs": [
    {
     "name": "stdout",
     "output_type": "stream",
     "text": [
      "2 2\n",
      "1 2\n",
      "3 4\n",
      "24\n"
     ]
    }
   ],
   "source": [
    "#9. You are given a 2-D array with dimensions N X M.\n",
    "# Your task is to perform the sum tool over axis 0 and then find the product of that result.\n",
    "\n",
    "import numpy as np\n",
    "n,m = map(int,input().split())\n",
    "A= np.array([input().split() for _ in range(n)],int)\n",
    "#print(np.sum(A,axis=0))\n",
    "print(np.prod(np.sum(A,axis=0)))"
   ]
  },
  {
   "cell_type": "code",
   "execution_count": 18,
   "metadata": {},
   "outputs": [
    {
     "name": "stdout",
     "output_type": "stream",
     "text": [
      "4 2\n",
      "2 5\n",
      "3 7\n",
      "1 3\n",
      "4 0\n",
      "[2 3 1 0]\n",
      "3\n"
     ]
    }
   ],
   "source": [
    "#10. You are given a 2-D array with dimensions N X M.\n",
    "# Your task is to perform the min function over axis 1 and then find the max of that.\n",
    "\n",
    "import numpy as np\n",
    "n,m=map(int,input().split())\n",
    "A = np.array([input().split() for _ in range(n)],int)\n",
    "print(np.min(A,axis=1))\n",
    "print(np.max(np.min(A,axis=1)))"
   ]
  },
  {
   "cell_type": "code",
   "execution_count": 21,
   "metadata": {},
   "outputs": [
    {
     "name": "stdout",
     "output_type": "stream",
     "text": [
      "2 2\n",
      "1 2\n",
      "3 4\n",
      "[1.5 3.5]\n",
      "[1. 1.]\n",
      "1.118033988749895\n"
     ]
    }
   ],
   "source": [
    "#11. You are given a 2-D array of size N X M.\n",
    "# Your task is to find:\n",
    "# The mean along axis 1\n",
    "# The var along axis 0\n",
    "# The std along axis None.\n",
    "\n",
    "import numpy as np\n",
    "n,m=map(int,input().split())\n",
    "A = np.array([input().split() for _ in range(n)],int)\n",
    "print(np.mean(A,axis=1))\n",
    "print(np.var(A,axis=0))\n",
    "print(np.std(A,axis=None))"
   ]
  },
  {
   "cell_type": "code",
   "execution_count": 24,
   "metadata": {},
   "outputs": [
    {
     "name": "stdout",
     "output_type": "stream",
     "text": [
      "2\n",
      "1 2\n",
      "3 4\n",
      "1 2\n",
      "3 4\n"
     ]
    },
    {
     "data": {
      "text/plain": [
       "array([[ 7, 10],\n",
       "       [15, 22]])"
      ]
     },
     "execution_count": 24,
     "metadata": {},
     "output_type": "execute_result"
    }
   ],
   "source": [
    "#12. You are given two arrays A and B. Both have dimensions of N X N.\n",
    "# Your task is to compute their matrix product.\n",
    "\n",
    "import numpy as np\n",
    "n=int(input())\n",
    "A=np.array([input().split() for _ in range(n)],int)\n",
    "B=np.array([input().split() for _ in range(n)],int)\n",
    "np.dot(A,B)"
   ]
  },
  {
   "cell_type": "code",
   "execution_count": 25,
   "metadata": {},
   "outputs": [
    {
     "name": "stdout",
     "output_type": "stream",
     "text": [
      "0 1\n",
      "2 3\n",
      "3\n",
      "[[0 0]\n",
      " [2 3]]\n"
     ]
    }
   ],
   "source": [
    "#13. You are given two arrays: A and B.\n",
    "# Your task is to compute their inner and outer product.\n",
    "\n",
    "import numpy as np\n",
    "\n",
    "A = np.array(input().split(' '), int)\n",
    "B = np.array(input().split(' '), int)\n",
    "\n",
    "print(np.inner(A,B))\n",
    "print(np.outer(A,B))"
   ]
  },
  {
   "cell_type": "code",
   "execution_count": 28,
   "metadata": {},
   "outputs": [
    {
     "name": "stdout",
     "output_type": "stream",
     "text": [
      "1.1 2 3\n",
      "0\n",
      "3.0\n"
     ]
    }
   ],
   "source": [
    "#14. You are given the coefficients of a polynomial P.\n",
    "# Your task is to find the value of P at point x.\n",
    "\n",
    "import numpy\n",
    "n = list(map(float,input().split()));\n",
    "m = input();\n",
    "print(numpy.polyval(n,int(m)));"
   ]
  },
  {
   "cell_type": "code",
   "execution_count": 36,
   "metadata": {},
   "outputs": [
    {
     "name": "stdout",
     "output_type": "stream",
     "text": [
      "2\n",
      "1.1 1.1\n",
      "1.1 1.2\n",
      "0.11\n"
     ]
    }
   ],
   "source": [
    "#You are given a square matrix A with dimensions N X N. Your task is to find the determinant. \n",
    "# Note: Round the answer to 2 places after the decimal.\n",
    "\n",
    "import numpy as np\n",
    "m=int(input())\n",
    "\n",
    "A=np.array([input().split() for _ in range(m)],float)\n",
    "print(round(np.linalg.det(A),2))"
   ]
  }
 ],
 "metadata": {
  "kernelspec": {
   "display_name": "Python 3",
   "language": "python",
   "name": "python3"
  },
  "language_info": {
   "codemirror_mode": {
    "name": "ipython",
    "version": 3
   },
   "file_extension": ".py",
   "mimetype": "text/x-python",
   "name": "python",
   "nbconvert_exporter": "python",
   "pygments_lexer": "ipython3",
   "version": "3.7.3"
  }
 },
 "nbformat": 4,
 "nbformat_minor": 2
}
