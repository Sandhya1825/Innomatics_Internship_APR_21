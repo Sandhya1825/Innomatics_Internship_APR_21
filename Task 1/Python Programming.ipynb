{
 "cells": [
  {
   "cell_type": "code",
   "execution_count": 1,
   "metadata": {},
   "outputs": [
    {
     "name": "stdout",
     "output_type": "stream",
     "text": [
      "Hello, World!\n"
     ]
    }
   ],
   "source": [
    "# 1. Say \"Hello, World!\" With Python\n",
    "\n",
    "print(\"Hello, World!\")\n",
    "\n"
   ]
  },
  {
   "cell_type": "code",
   "execution_count": 10,
   "metadata": {},
   "outputs": [
    {
     "name": "stdout",
     "output_type": "stream",
     "text": [
      "3\n",
      "Enter first number: 3\n",
      "4\n",
      "Enter second number: 4\n",
      "Sum of two numbers is: 7\n",
      "Difference of two numbers is: -1\n",
      "Product of two numbers is: 12\n"
     ]
    }
   ],
   "source": [
    "# 2. The provided code stub reads two integers from STDIN,  and . Add code to print three lines where:\n",
    "\n",
    "# The first line contains the sum of the two numbers.\n",
    "# The second line contains the difference of the two numbers (first - second).\n",
    "# The third line contains the product of the two numbers.\n",
    "\n",
    "a= int(input())\n",
    "print(\"Enter first number:\",a)\n",
    "b = int(input())\n",
    "print(\"Enter second number:\",b)\n",
    "#s= a+b\n",
    "print(\"Sum of two numbers is:\",a+b)\n",
    "print(\"Difference of two numbers is:\",a-b)\n",
    "print(\"Product of two numbers is:\",a*b)"
   ]
  },
  {
   "cell_type": "code",
   "execution_count": 12,
   "metadata": {},
   "outputs": [
    {
     "name": "stdout",
     "output_type": "stream",
     "text": [
      "1445\n",
      "Enter first number: 1445\n",
      "23\n",
      "Enter second number: 23\n",
      "Integer division: 62\n",
      "Float division: 62.82608695652174\n"
     ]
    }
   ],
   "source": [
    "#3. The provided code stub reads two integers,  and , from STDIN.\n",
    "\n",
    "#Add logic to print two lines. The first line should contain the result of integer division,  // . \n",
    "#The second line should contain the result of float division,  / .\n",
    "\n",
    "#No rounding or formatting is necessary.\n",
    "\n",
    "a= int(input())\n",
    "print(\"Enter first number:\",a)\n",
    "b = int(input())\n",
    "print(\"Enter second number:\",b)\n",
    "\n",
    "print(\"Integer division:\",a//b)\n",
    "print(\"Float division:\",a/b)"
   ]
  },
  {
   "cell_type": "code",
   "execution_count": 13,
   "metadata": {},
   "outputs": [
    {
     "name": "stdout",
     "output_type": "stream",
     "text": [
      "6\n",
      "Enter a number: 6\n",
      "1\n",
      "4\n",
      "9\n",
      "16\n",
      "25\n",
      "36\n"
     ]
    }
   ],
   "source": [
    "#4. The provided code stub reads and integer, , from STDIN. For all non-negative integers , print i^2.\n",
    "\n",
    "n=int(input())\n",
    "print(\"Enter a number:\",n)\n",
    "\n",
    "for i in range(1,n+1):\n",
    "    i=i*i\n",
    "    print(i)\n",
    "\n",
    "\n"
   ]
  },
  {
   "cell_type": "code",
   "execution_count": 15,
   "metadata": {},
   "outputs": [
    {
     "name": "stdout",
     "output_type": "stream",
     "text": [
      "1996\n",
      "Enter an year 1996\n",
      "True\n"
     ]
    }
   ],
   "source": [
    "#5. Given a year, determine whether it is a leap year. If it is a leap year, return the Boolean True, otherwise return False.\n",
    "\n",
    "#Note that the code stub provided reads from STDIN and passes arguments to the is_leap function. \n",
    "#It is only necessary to complete the is_leap function.\n",
    "\n",
    "y=int(input())\n",
    "print(\"Enter an year\",y)\n",
    "\n",
    "if (y % 4 == 0 & y % 400 == 0):\n",
    "    print(\"True\")\n",
    "else:\n",
    "    print(\"False\")"
   ]
  },
  {
   "cell_type": "code",
   "execution_count": 16,
   "metadata": {},
   "outputs": [
    {
     "name": "stdout",
     "output_type": "stream",
     "text": [
      "6\n",
      "Enter a number:\n",
      "1\n",
      "2\n",
      "3\n",
      "4\n",
      "5\n",
      "6\n"
     ]
    }
   ],
   "source": [
    "#6. Print the list of integers from 1 through n as a string, without spaces.\n",
    "\n",
    "n=int(input())\n",
    "print(\"Enter a number:\")\n",
    "\n",
    "for i in range(1,n+1):\n",
    "    print(i)"
   ]
  },
  {
   "cell_type": "code",
   "execution_count": 21,
   "metadata": {},
   "outputs": [
    {
     "name": "stdout",
     "output_type": "stream",
     "text": [
      "8\n",
      "Enter a number: 8\n",
      "Weird\n"
     ]
    }
   ],
   "source": [
    "#7. Given an integer,n, perform the following conditional actions:\n",
    "\n",
    "# If n is odd, print Weird\n",
    "# If n is even and in the inclusive range of 2 to 5, print Not Weird\n",
    "# If n is even and in the inclusive range of 6 to 20, print Weird\n",
    "# If n is even and greater than 20, print Not Weird\n",
    "\n",
    "n=int(input())\n",
    "print(\"Enter a number:\",n)\n",
    "\n",
    "if( n % 2 != 0):\n",
    "    print(\"Weird\")\n",
    "elif (n%2 == 0 & 2< n <5):\n",
    "    print(\"Not Weird\")\n",
    "elif (n%2 == 0 & 6< n <20):\n",
    "    print(\"Weird\")\n",
    "else:\n",
    "    print(\"Not Weird\")"
   ]
  }
 ],
 "metadata": {
  "kernelspec": {
   "display_name": "Python 3",
   "language": "python",
   "name": "python3"
  },
  "language_info": {
   "codemirror_mode": {
    "name": "ipython",
    "version": 3
   },
   "file_extension": ".py",
   "mimetype": "text/x-python",
   "name": "python",
   "nbconvert_exporter": "python",
   "pygments_lexer": "ipython3",
   "version": "3.7.3"
  }
 },
 "nbformat": 4,
 "nbformat_minor": 2
}
