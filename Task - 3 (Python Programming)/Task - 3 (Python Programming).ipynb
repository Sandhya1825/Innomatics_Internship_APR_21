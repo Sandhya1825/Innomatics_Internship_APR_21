{
 "cells": [
  {
   "cell_type": "code",
   "execution_count": 12,
   "metadata": {},
   "outputs": [
    {
     "name": "stdout",
     "output_type": "stream",
     "text": [
      "Enter a number:1+2j\n",
      "(1+2j)\n",
      "Polar Co-Ordinate: 2.23606797749979\n",
      "Polar Co-ordinate: 1.1071487177940904\n"
     ]
    }
   ],
   "source": [
    "#1. You are given a complex . Your task is to convert it to polar coordinates.\n",
    "\n",
    "import cmath\n",
    "\n",
    "c=complex(input(\"Enter a number:\"))\n",
    "print(c)\n",
    "\n",
    "r,theta=cmath.polar(c)\n",
    "print(\"Polar Co-Ordinate:\",r)\n",
    "print(\"Polar Co-ordinate:\",theta)"
   ]
  },
  {
   "cell_type": "code",
   "execution_count": 19,
   "metadata": {
    "scrolled": true
   },
   "outputs": [
    {
     "name": "stdout",
     "output_type": "stream",
     "text": [
      "Enter length AB:5\n",
      "Enter length BC:3\n",
      "59\n"
     ]
    }
   ],
   "source": [
    "#2. ABC is a right triangle, 90 degrees at B.\n",
    "# Therefore angle ABC is 90 degrees.\n",
    "\n",
    "#Point M is the midpoint of hypotenuse AC.\n",
    "\n",
    "# You are given the lengths AB and BC.\n",
    "# Your task is to find angle MBC (angle theta) in degrees.\n",
    "\n",
    "import math\n",
    "\n",
    "ab=int(input(\"Enter length AB:\"))\n",
    "bc=int(input(\"Enter length BC:\"))\n",
    "\n",
    "print(int(round(math.degrees(math.atan2(ab,bc)))))"
   ]
  },
  {
   "cell_type": "code",
   "execution_count": 42,
   "metadata": {},
   "outputs": [
    {
     "name": "stdout",
     "output_type": "stream",
     "text": [
      "Enter integer:5\n",
      "1\n",
      "121\n",
      "12321\n",
      "1234321\n",
      "123454321\n"
     ]
    }
   ],
   "source": [
    "#3. Print pallindrome triangle pattern:\n",
    "\n",
    "n = int(input(\"Enter integer:\"))\n",
    "for row in range(1,(n+1)):\n",
    "    line = \"\"\n",
    "    for column in range(1,(row+1)):\n",
    "        line = line + str(column)\n",
    "    for x in range(int(line[-1])):\n",
    "        line = line + str(int(line[-1]) - 1)\n",
    "    print(int(line)//10)"
   ]
  },
  {
   "cell_type": "code",
   "execution_count": 24,
   "metadata": {
    "scrolled": true
   },
   "outputs": [
    {
     "name": "stdout",
     "output_type": "stream",
     "text": [
      "145\n",
      "8\n",
      "18\n",
      "1\n",
      "(18, 1)\n"
     ]
    }
   ],
   "source": [
    "#4. Read in two integers, a and b and print three lines.\n",
    "# The first line is the integer division. a//b\n",
    "# The second line is the result of the modulo operator: a%b\n",
    "# The third line prints the divmod of a and b\n",
    "\n",
    "a,b=int(input()),int(input())\n",
    "print(a//b)\n",
    "print(a%b)\n",
    "print(divmod(a,b))"
   ]
  },
  {
   "cell_type": "code",
   "execution_count": 25,
   "metadata": {
    "scrolled": true
   },
   "outputs": [
    {
     "name": "stdout",
     "output_type": "stream",
     "text": [
      "3\n",
      "4\n",
      "5\n",
      "81\n",
      "1\n"
     ]
    }
   ],
   "source": [
    "# 5. You are given three integers: a,b and m. Print two lines.\n",
    "# On the first line, print the result of pow(a,b). On the second line, print the result of pow(a,b,m).\n",
    "\n",
    "a,b,m=int(input()),int(input()),int(input())\n",
    "print(pow(a,b))\n",
    "print(pow(a,b,m))"
   ]
  },
  {
   "cell_type": "code",
   "execution_count": 28,
   "metadata": {},
   "outputs": [
    {
     "name": "stdout",
     "output_type": "stream",
     "text": [
      "9\n",
      "29\n",
      "7\n",
      "27\n",
      "4710194409608608369201743232\n"
     ]
    }
   ],
   "source": [
    "#6. Read four numbers a, b, c and d, and print the result of a^b +c^d.\n",
    "\n",
    "a,b,c,d=int(input()),int(input()),int(input()),int(input())\n",
    "print(pow(a,b)+pow(c,d))"
   ]
  },
  {
   "cell_type": "code",
   "execution_count": 6,
   "metadata": {},
   "outputs": [
    {
     "name": "stdout",
     "output_type": "stream",
     "text": [
      "5\n",
      "1\n",
      "\n",
      "22\n",
      "\n",
      "333\n",
      "\n",
      "4444\n",
      "\n"
     ]
    }
   ],
   "source": [
    "#7. Print the pattern:\n",
    "\n",
    "for i in range(1,int(input())):\n",
    "    for j in range(1,i+1):\n",
    "        print(i,end='')\n",
    "    print('\\n')"
   ]
  }
 ],
 "metadata": {
  "kernelspec": {
   "display_name": "Python 3",
   "language": "python",
   "name": "python3"
  },
  "language_info": {
   "codemirror_mode": {
    "name": "ipython",
    "version": 3
   },
   "file_extension": ".py",
   "mimetype": "text/x-python",
   "name": "python",
   "nbconvert_exporter": "python",
   "pygments_lexer": "ipython3",
   "version": "3.7.3"
  }
 },
 "nbformat": 4,
 "nbformat_minor": 2
}
