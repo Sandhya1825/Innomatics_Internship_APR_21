{
 "cells": [
  {
   "cell_type": "code",
   "execution_count": 9,
   "metadata": {},
   "outputs": [
    {
     "name": "stdout",
     "output_type": "stream",
     "text": [
      "Enter number of Elements:6\n",
      "8\n",
      "34\n",
      "49\n",
      "52\n",
      "89\n",
      "23\n",
      "[8, 34, 49, 52, 89, 23]\n"
     ]
    }
   ],
   "source": [
    "#1. Consider a list (list = []). You can perform the following commands:\n",
    "\n",
    "# insert i e: Insert integer e at position i.\n",
    "# print: Print the list.\n",
    "# remove e: Delete the first occurrence of integer e.\n",
    "# append e: Insert integer e at the end of the list.\n",
    "# sort: Sort the list.\n",
    "# pop: Pop the last element from the list.\n",
    "# reverse: Reverse the list.\n",
    "\n",
    "lst= []\n",
    "n=int(input(\"Enter number of Elements:\"))\n",
    "\n",
    "for i in range(0,n):\n",
    "    element=int(input())\n",
    "    \n",
    "    lst.append(element)\n",
    "print(lst)"
   ]
  },
  {
   "cell_type": "code",
   "execution_count": 10,
   "metadata": {},
   "outputs": [
    {
     "data": {
      "text/plain": [
       "[8, 34, 49, 46, 89, 23]"
      ]
     },
     "execution_count": 10,
     "metadata": {},
     "output_type": "execute_result"
    }
   ],
   "source": [
    "# insert i e: Insert integer e at position i.\n",
    "\n",
    "lst[3]=46\n",
    "lst"
   ]
  },
  {
   "cell_type": "code",
   "execution_count": 11,
   "metadata": {},
   "outputs": [],
   "source": [
    "# remove e: Delete the first occurrence of integer e.\n",
    "\n",
    "lst.remove(34)"
   ]
  },
  {
   "cell_type": "code",
   "execution_count": 12,
   "metadata": {},
   "outputs": [],
   "source": [
    "# append e: Insert integer e at the end of the list.\n",
    "\n",
    "lst.append(68)"
   ]
  },
  {
   "cell_type": "code",
   "execution_count": 13,
   "metadata": {},
   "outputs": [],
   "source": [
    "# sort: Sort the list.\n",
    "\n",
    "lst.sort()"
   ]
  },
  {
   "cell_type": "code",
   "execution_count": 14,
   "metadata": {},
   "outputs": [
    {
     "data": {
      "text/plain": [
       "89"
      ]
     },
     "execution_count": 14,
     "metadata": {},
     "output_type": "execute_result"
    }
   ],
   "source": [
    "#pop: Pop the last element from the list.\n",
    "\n",
    "lst.pop()"
   ]
  },
  {
   "cell_type": "code",
   "execution_count": 17,
   "metadata": {},
   "outputs": [
    {
     "data": {
      "text/plain": [
       "[8, 23, 46, 49, 68]"
      ]
     },
     "execution_count": 17,
     "metadata": {},
     "output_type": "execute_result"
    }
   ],
   "source": [
    "# print: Print the list.\n",
    "\n",
    "lst"
   ]
  },
  {
   "cell_type": "code",
   "execution_count": 18,
   "metadata": {},
   "outputs": [
    {
     "data": {
      "text/plain": [
       "[68, 49, 46, 23, 8]"
      ]
     },
     "execution_count": 18,
     "metadata": {},
     "output_type": "execute_result"
    }
   ],
   "source": [
    "# reverse: reverse the list.\n",
    "\n",
    "lst[::-1]"
   ]
  },
  {
   "cell_type": "code",
   "execution_count": 24,
   "metadata": {},
   "outputs": [
    {
     "name": "stdout",
     "output_type": "stream",
     "text": [
      "Enter number of Elements:5\n",
      "1\n",
      "2\n",
      "3\n",
      "4\n",
      "5\n",
      "(1, 2, 3, 4, 5)\n"
     ]
    }
   ],
   "source": [
    "# 2. Given an integer,n , and  space-separated integers as input, create a tuple,t , of those  integers. \n",
    "#Then compute and print the result of hash(t).\n",
    "\n",
    "l=[]\n",
    "n=int(input(\"Enter number of Elements:\"))\n",
    "\n",
    "for i in range(0,n):\n",
    "    element=int(input())\n",
    "    \n",
    "    l.append(element)\n",
    "t=tuple(l)\n",
    "print(t)"
   ]
  },
  {
   "cell_type": "code",
   "execution_count": 25,
   "metadata": {},
   "outputs": [
    {
     "data": {
      "text/plain": [
       "8315274433719620810"
      ]
     },
     "execution_count": 25,
     "metadata": {},
     "output_type": "execute_result"
    }
   ],
   "source": [
    "hash(t)"
   ]
  },
  {
   "cell_type": "code",
   "execution_count": 14,
   "metadata": {},
   "outputs": [
    {
     "name": "stdout",
     "output_type": "stream",
     "text": [
      "Enter number of Students:4\n",
      "Enter number of Subjects:3\n",
      "Enter the name:Raju\n",
      "Enter the marks:23\n",
      "Enter the marks:29\n",
      "Enter the marks:24\n",
      "Enter the name:Lekha\n",
      "Enter the marks:27\n",
      "Enter the marks:22\n",
      "Enter the marks:25\n",
      "Enter the name:Niranjan\n",
      "Enter the marks:28\n",
      "Enter the marks:22\n",
      "Enter the marks:26\n",
      "Enter the name:Ramana\n",
      "Enter the marks:28\n",
      "Enter the marks:25\n",
      "Enter the marks:23\n",
      "{'Raju': [23, 29, 24], 'Lekha': [27, 22, 25], 'Niranjan': [28, 22, 26], 'Ramana': [28, 25, 23]}\n",
      "{'Raju': 25.33, 'Lekha': 24.67, 'Niranjan': 25.33, 'Ramana': 25.33}\n"
     ]
    }
   ],
   "source": [
    "#3. The provided code stub will read in a dictionary containing key/value pairs of name:[marks] for a list of students. \n",
    "#Print the average of the marks array for the student name provided, showing 2 places after the decimal.\n",
    "\n",
    "d={}\n",
    "da={}\n",
    "lst= []\n",
    "l=[]\n",
    "n=int(input(\"Enter number of Students:\"))\n",
    "m=int(input(\"Enter number of Subjects:\"))\n",
    "for i in range(n):\n",
    "    keys=input(\"Enter the name:\")\n",
    "    \n",
    "    for i in range(0,m):\n",
    "        marks=int(input(\"Enter the marks:\"))\n",
    "        lst.append(marks)\n",
    "    d[keys]=lst\n",
    "    da[keys]=round(sum(lst)/m,2)\n",
    "    lst=[]\n",
    "print(d)\n",
    "print(da)"
   ]
  },
  {
   "cell_type": "code",
   "execution_count": 41,
   "metadata": {},
   "outputs": [
    {
     "name": "stdout",
     "output_type": "stream",
     "text": [
      "Enter number of participants:12\n",
      "Enter name & score separated by \":\" Rama:9.1\n",
      "Enter name & score separated by \":\" Venu:8.9\n",
      "Enter name & score separated by \":\" Ramya:8.8\n",
      "Enter name & score separated by \":\" Sahasra:9.8\n",
      "Enter name & score separated by \":\" Virat:9.3\n",
      "Enter name & score separated by \":\" Akash:8.7\n",
      "Enter name & score separated by \":\" Aditya:8.9\n",
      "Enter name & score separated by \":\" Tulasi:9.4\n",
      "Enter name & score separated by \":\" Jyotsna:9.2:\n",
      "Enter name & score separated by \":\" Suresh:9.6\n",
      "Enter name & score separated by \":\" Ramesh:9.5\n",
      "Enter name & score separated by \":\" Sowmya:9.7\n",
      "Scores of the participants are: [9.1, 8.9, 8.8, 9.8, 9.3, 8.7, 8.9, 9.4, 9.2, 9.6, 9.5, 9.7]\n"
     ]
    }
   ],
   "source": [
    "# 4. Given the participants' score sheet for your University Sports Day, you are required to find the runner-up score.\n",
    "# You are given  scores. Store them in a list and find the score of the runner-up.\n",
    "\n",
    "class_list = dict() \n",
    "lst=[]\n",
    "s=[]\n",
    "n=int(input(\"Enter number of participants:\"))\n",
    "\n",
    "for i in range(n):\n",
    "    data = input('Enter name & score separated by \":\" ') \n",
    "    temp = data.split(':') \n",
    "    class_list[temp[0]] = float(temp[1]) \n",
    " \n",
    "for key, value in class_list.items(): \n",
    "    s=lst.append(value)\n",
    "\n",
    "print(\"Scores of the participants are:\",lst)\n",
    "\n",
    "#s.sort()\n",
    "#print(\"Sorted list\",s)\n",
    "#print(\"Score of the runner-up:\",s[1])"
   ]
  },
  {
   "cell_type": "code",
   "execution_count": 50,
   "metadata": {},
   "outputs": [],
   "source": [
    "lst.remove(max(lst))"
   ]
  },
  {
   "cell_type": "code",
   "execution_count": 53,
   "metadata": {},
   "outputs": [
    {
     "name": "stdout",
     "output_type": "stream",
     "text": [
      "[8.7, 8.8, 8.9, 8.9, 9.1, 9.2, 9.3, 9.4, 9.5, 9.6, 9.7]\n",
      "Runner-up Score: 9.7\n"
     ]
    }
   ],
   "source": [
    "print(lst)\n",
    "print(\"Runner-up Score:\",max(lst))"
   ]
  },
  {
   "cell_type": "code",
   "execution_count": 60,
   "metadata": {},
   "outputs": [
    {
     "name": "stdout",
     "output_type": "stream",
     "text": [
      "Enter number of Plants:12\n",
      "Enter height of the plant:5.4\n",
      "Enter height of the plant:5.45\n",
      "Enter height of the plant:5.8\n",
      "Enter height of the plant:5.4\n",
      "Enter height of the plant:5.3\n",
      "Enter height of the plant:6.1\n",
      "Enter height of the plant:6.8\n",
      "Enter height of the plant:4.3\n",
      "Enter height of the plant:4.8\n",
      "Enter height of the plant:4.3\n",
      "Enter height of the plant:6.1\n",
      "Enter height of the plant:5.3\n",
      "{4.3, 5.8, 5.45, 5.4, 6.1, 5.3, 6.8, 4.8}\n",
      "Average height of the plant: 3.6624999999999996\n"
     ]
    }
   ],
   "source": [
    "#5. Ms. Gabriel Williams is a botany professor at District College. \n",
    "#One day, she asked her student Mickey to compute the average of all the plants with distinct heights in her greenhouse.\n",
    "\n",
    "s=set()\n",
    "n=int(input(\"Enter number of Plants:\"))\n",
    "\n",
    "for i in range(0,n):\n",
    "    height=float(input(\"Enter height of the plant:\"))\n",
    "    \n",
    "    s.add(height)\n",
    "print(s)\n",
    "print(\"Average height of the plant:\",sum(s)/n)\n"
   ]
  },
  {
   "cell_type": "code",
   "execution_count": 65,
   "metadata": {},
   "outputs": [
    {
     "name": "stdout",
     "output_type": "stream",
     "text": [
      "Enter number of Stamps:15\n",
      "Enter the country of the stamp:India\n",
      "Enter the country of the stamp:France\n",
      "Enter the country of the stamp:Germany\n",
      "Enter the country of the stamp:USA\n",
      "Enter the country of the stamp:Germany\n",
      "Enter the country of the stamp:Russia\n",
      "Enter the country of the stamp:Italy\n",
      "Enter the country of the stamp:India\n",
      "Enter the country of the stamp:India\n",
      "Enter the country of the stamp:Germany\n",
      "Enter the country of the stamp:Russia\n",
      "Enter the country of the stamp:Italy\n",
      "Enter the country of the stamp:USA\n",
      "Enter the country of the stamp:France\n",
      "Enter the country of the stamp:Russia\n",
      "{'Germany', 'India', 'Italy', 'Russia', 'France', 'USA'}\n",
      "Distinct stamps: {'Germany', 'India', 'Italy', 'Russia', 'France', 'USA'}\n",
      "Number of unique stamps: 6\n"
     ]
    }
   ],
   "source": [
    "#6. Rupal has a huge collection of country stamps. She decided to count the total number of distinct country stamps\n",
    "#in her collection. She asked for your help. You pick the stamps one by one from a stack of  country stamps.\n",
    "\n",
    "s=set()\n",
    "n=int(input(\"Enter number of Stamps:\"))\n",
    "\n",
    "for i in range(0,n):\n",
    "    stamp=input(\"Enter the country of the stamp:\")\n",
    "    \n",
    "    s.add(stamp)\n",
    "print(s)\n",
    "print(\"Distinct stamps:\",s)\n",
    "print(\"Number of unique stamps:\",len(s))"
   ]
  },
  {
   "cell_type": "code",
   "execution_count": 68,
   "metadata": {
    "scrolled": true
   },
   "outputs": [
    {
     "name": "stdout",
     "output_type": "stream",
     "text": [
      "Enter number of elements in the set:10\n",
      "12\n",
      "14\n",
      "6\n",
      "8\n",
      "5\n",
      "3\n",
      "9\n",
      "1\n",
      "17\n",
      "13\n",
      "{1, 3, 5, 6, 8, 9, 12, 13, 14, 17}\n"
     ]
    }
   ],
   "source": [
    "# 7. You have a non-empty set s, and you have to execute N commands given in N lines.\n",
    "# The commands will be pop, remove and discard.\n",
    "\n",
    "# Input Format\n",
    "\n",
    "# The first line contains integer n, the number of elements in the set s.\n",
    "# The second line contains n space separated elements of set s. All of the elements are non-negative integers, less than or \n",
    "# equal to 9.\n",
    "# The third line contains integer N, the number of commands.\n",
    "# The next N lines contains either pop, remove and/or discard commands followed by their associated value.\n",
    "\n",
    "# Constraints:\n",
    "    \n",
    "    # 0 < n < 20\n",
    "    # 0 < N < 20\n",
    "\n",
    "# Output Format\n",
    "\n",
    "# Print the sum of the elements of set s on a single line.\n",
    "\n",
    "s=set()\n",
    "n=int(input(\"Enter number of elements in the set:\"))\n",
    "\n",
    "for i in range(0,n):\n",
    "    element=int(input())\n",
    "    \n",
    "    s.add(element)\n",
    "print(s)"
   ]
  },
  {
   "cell_type": "code",
   "execution_count": 82,
   "metadata": {},
   "outputs": [
    {
     "name": "stdout",
     "output_type": "stream",
     "text": [
      "Enter number of commands to be operated on the set:5\n"
     ]
    }
   ],
   "source": [
    "n=int(input(\"Enter number of commands to be operated on the set:\"))"
   ]
  },
  {
   "cell_type": "code",
   "execution_count": 69,
   "metadata": {},
   "outputs": [
    {
     "data": {
      "text/plain": [
       "1"
      ]
     },
     "execution_count": 69,
     "metadata": {},
     "output_type": "execute_result"
    }
   ],
   "source": [
    "s.pop()"
   ]
  },
  {
   "cell_type": "code",
   "execution_count": 71,
   "metadata": {},
   "outputs": [],
   "source": [
    "s.remove(13)"
   ]
  },
  {
   "cell_type": "code",
   "execution_count": 75,
   "metadata": {},
   "outputs": [],
   "source": [
    "s.discard(14)"
   ]
  },
  {
   "cell_type": "code",
   "execution_count": 77,
   "metadata": {},
   "outputs": [],
   "source": [
    "s.discard(3)"
   ]
  },
  {
   "cell_type": "code",
   "execution_count": 80,
   "metadata": {},
   "outputs": [
    {
     "data": {
      "text/plain": [
       "5"
      ]
     },
     "execution_count": 80,
     "metadata": {},
     "output_type": "execute_result"
    }
   ],
   "source": [
    "s.pop()"
   ]
  },
  {
   "cell_type": "code",
   "execution_count": 81,
   "metadata": {},
   "outputs": [
    {
     "name": "stdout",
     "output_type": "stream",
     "text": [
      "{6, 8, 9, 12, 17}\n"
     ]
    }
   ],
   "source": [
    "print(s)"
   ]
  },
  {
   "cell_type": "code",
   "execution_count": 83,
   "metadata": {},
   "outputs": [
    {
     "name": "stdout",
     "output_type": "stream",
     "text": [
      "Sum of elements in the set: 52\n"
     ]
    }
   ],
   "source": [
    "print(\"Sum of elements in the set:\",sum(s))"
   ]
  },
  {
   "cell_type": "code",
   "execution_count": 85,
   "metadata": {},
   "outputs": [
    {
     "name": "stdout",
     "output_type": "stream",
     "text": [
      "Number of students subscribed for English Newspaper:15\n",
      "Roll no. of the student subscribed to English newspaper:1\n",
      "Roll no. of the student subscribed to English newspaper:8\n",
      "Roll no. of the student subscribed to English newspaper:7\n",
      "Roll no. of the student subscribed to English newspaper:16\n",
      "Roll no. of the student subscribed to English newspaper:24\n",
      "Roll no. of the student subscribed to English newspaper:29\n",
      "Roll no. of the student subscribed to English newspaper:13\n",
      "Roll no. of the student subscribed to English newspaper:15\n",
      "Roll no. of the student subscribed to English newspaper:9\n",
      "Roll no. of the student subscribed to English newspaper:6\n",
      "Roll no. of the student subscribed to English newspaper:21\n",
      "Roll no. of the student subscribed to English newspaper:17\n",
      "Roll no. of the student subscribed to English newspaper:22\n",
      "Roll no. of the student subscribed to English newspaper:28\n",
      "Roll no. of the student subscribed to English newspaper:3\n",
      "Number of students subscribed for French Newspaper:10\n",
      "Roll no. of the student subscribed to English newspaper:15\n",
      "Roll no. of the student subscribed to English newspaper:12\n",
      "Roll no. of the student subscribed to English newspaper:9\n",
      "Roll no. of the student subscribed to English newspaper:6\n",
      "Roll no. of the student subscribed to English newspaper:23\n",
      "Roll no. of the student subscribed to English newspaper:28\n",
      "Roll no. of the student subscribed to English newspaper:2\n",
      "Roll no. of the student subscribed to English newspaper:22\n",
      "Roll no. of the student subscribed to English newspaper:3\n",
      "Roll no. of the student subscribed to English newspaper:7\n"
     ]
    }
   ],
   "source": [
    "#8. The students of District College have subscriptions to English and French newspapers. Some students have subscribed only\n",
    "# to English, some have subscribed to only French and some have subscribed to both newspapers.\n",
    "\n",
    "# You are given two sets of student roll numbers. One set has subscribed to the English newspaper, and the other set is \n",
    "# subscribed to the French newspaper. The same student could be in both sets. Your task is to find the total number of students \n",
    "# who have subscribed to at least one newspaper.\n",
    "\n",
    "s=set()\n",
    "e=[]\n",
    "f=[]\n",
    "\n",
    "n=int(input(\"Number of students subscribed for English Newspaper:\"))\n",
    "for i in range(0,n):\n",
    "    ep=int(input(\"Roll no. of the student subscribed to English newspaper:\"))\n",
    "    e.append(ep)\n",
    "    \n",
    "m=int(input(\"Number of students subscribed for French Newspaper:\"))\n",
    "for i in range(0,m):\n",
    "    fp=int(input(\"Roll no. of the student subscribed to English newspaper:\"))\n",
    "    f.append(fp)"
   ]
  },
  {
   "cell_type": "code",
   "execution_count": 94,
   "metadata": {},
   "outputs": [
    {
     "name": "stdout",
     "output_type": "stream",
     "text": [
      "Students subscribed for English Newspaper: {1, 3, 6, 7, 8, 9, 13, 15, 16, 17, 21, 22, 24, 28, 29}\n",
      "Students subscribed for French Newspaper: {2, 3, 6, 7, 9, 12, 15, 22, 23, 28}\n",
      "Total number of students subscribed for atleast one newspaper: 18\n"
     ]
    }
   ],
   "source": [
    "es=set(e)\n",
    "print(\"Students subscribed for English Newspaper:\",es)\n",
    "\n",
    "fs=set(f)\n",
    "print(\"Students subscribed for French Newspaper:\",fs)\n",
    "\n",
    "sub=es.union(fs)\n",
    "print(\"Total number of students subscribed for atleast one newspaper:\",len(sub))"
   ]
  },
  {
   "cell_type": "code",
   "execution_count": 97,
   "metadata": {},
   "outputs": [
    {
     "name": "stdout",
     "output_type": "stream",
     "text": [
      "Students subscribed for both newspapers: {3, 6, 7, 9, 15, 22, 28}\n",
      "Total number of students subscribed for both newspapers: 7\n"
     ]
    }
   ],
   "source": [
    "#9. The students of District College have subscriptions to English and French newspapers. Some students have subscribed only to\n",
    "# English, some have subscribed only to French, and some have subscribed to both newspapers.\n",
    "\n",
    "# You are given two sets of student roll numbers. One set has subscribed to the English newspaper, one set has subscribed to \n",
    "# the French newspaper. Your task is to find the total number of students who have subscribed to both newspapers.\n",
    "\n",
    "both=es.intersection(fs)\n",
    "print(\"Students subscribed for both newspapers:\",both)\n",
    "print(\"Total number of students subscribed for both newspapers:\",len(both))"
   ]
  },
  {
   "cell_type": "code",
   "execution_count": 98,
   "metadata": {},
   "outputs": [
    {
     "name": "stdout",
     "output_type": "stream",
     "text": [
      "Students subscribed for only English newspaper: {1, 8, 13, 16, 17, 21, 24, 29}\n",
      "Total no. of students subscribed for only English newspaper: 8\n"
     ]
    }
   ],
   "source": [
    "#10. Students of District College have a subscription to English and French newspapers. Some students have subscribed to only \n",
    "#the English newspaper, some have subscribed to only the French newspaper, and some have subscribed to both newspapers.\n",
    "\n",
    "#You are given two sets of student roll numbers. One set has subscribed to the English newspaper, and one set has subscribed to \n",
    "#the French newspaper. Your task is to find the total number of students who have subscribed to only English newspapers.\n",
    "\n",
    "diff=es.difference(fs)\n",
    "print(\"Students subscribed for only English newspaper:\",diff)\n",
    "print(\"Total no. of students subscribed for only English newspaper:\",len(diff))"
   ]
  },
  {
   "cell_type": "code",
   "execution_count": 99,
   "metadata": {},
   "outputs": [
    {
     "name": "stdout",
     "output_type": "stream",
     "text": [
      "Students subscribed to either English or French but not both newspapers: {1, 2, 8, 12, 13, 16, 17, 21, 23, 24, 29}\n",
      "Total no. of Students subscribed to either English or French but not both newspapers: 11\n"
     ]
    }
   ],
   "source": [
    "#11. Your task is to find the total number of students who have subscribed to either the English or the French newspaper \n",
    "# but not both.\n",
    "\n",
    "sd=es.symmetric_difference(fs)\n",
    "print(\"Students subscribed to either English or French but not both newspapers:\",sd)\n",
    "print(\"Total no. of Students subscribed to either English or French but not both newspapers:\",len(sd))"
   ]
  },
  {
   "cell_type": "code",
   "execution_count": 101,
   "metadata": {},
   "outputs": [
    {
     "name": "stdout",
     "output_type": "stream",
     "text": [
      "Enter no. of integers in set M:8\n",
      "12\n",
      "23\n",
      "24\n",
      "18\n",
      "16\n",
      "29\n",
      "13\n",
      "21\n",
      "Enter no. of integers in set N:10\n",
      "23\n",
      "24\n",
      "13\n",
      "17\n",
      "21\n",
      "10\n",
      "5\n",
      "8\n",
      "19\n",
      "27\n",
      "Elements in set M: {12, 13, 16, 18, 21, 23, 24, 29}\n",
      "Elements in set N: {5, 8, 10, 13, 17, 19, 21, 23, 24, 27}\n"
     ]
    }
   ],
   "source": [
    "#12. Given 2 sets of integers,M and N, print their symmetric difference in ascending order. The term symmetric difference \n",
    "#indicates those values that exist in either M or N but do not exist in both.\n",
    "\n",
    "sm=set()\n",
    "sn=set()\n",
    "\n",
    "m=int(input(\"Enter no. of integers in set M:\"))\n",
    "\n",
    "for i in range(0,m):\n",
    "    melement=int(input()) \n",
    "    sm.add(melement)\n",
    "\n",
    "n=int(input(\"Enter no. of integers in set N:\"))\n",
    "\n",
    "for i in range(0,n):\n",
    "    nelement=int(input()) \n",
    "    sn.add(nelement)\n",
    "\n",
    "print(\"Elements in set M:\",sm)\n",
    "print(\"Elements in set N:\",sn)"
   ]
  },
  {
   "cell_type": "code",
   "execution_count": 105,
   "metadata": {},
   "outputs": [
    {
     "name": "stdout",
     "output_type": "stream",
     "text": [
      "Symmetric difference of the integers in the sets: {5, 8, 10, 12, 16, 17, 18, 19, 27, 29}\n",
      "Symmetric difference of the integers in the sets in increasing order: {5, 8, 10, 12, 16, 17, 18, 19, 27, 29}\n"
     ]
    }
   ],
   "source": [
    "sd=sm.symmetric_difference(sn)\n",
    "print(\"Symmetric difference of the integers in the sets:\",sd)\n",
    "\n",
    "l=list(sd)  #To know the ascending order, convert the set into list & arrange in ascending sequence & then again convert to set.\n",
    "l.sort()\n",
    "\n",
    "asd=set(l)\n",
    "print(\"Symmetric difference of the integers in the sets in increasing order:\",asd)"
   ]
  },
  {
   "cell_type": "code",
   "execution_count": 106,
   "metadata": {},
   "outputs": [
    {
     "name": "stdout",
     "output_type": "stream",
     "text": [
      "Enter number of integers in set A:15\n",
      "Enter integers into set A:\n",
      "13\n",
      "12\n",
      "25\n",
      "29\n",
      "7\n",
      "4\n",
      "18\n",
      "6\n",
      "19\n",
      "21\n",
      "3\n",
      "28\n",
      "36\n",
      "43\n",
      "59\n",
      "Enter integers into set B:\n",
      "25\n",
      "29\n",
      "21\n",
      "18\n",
      "12\n",
      "9\n",
      "6\n",
      "4\n",
      "67\n",
      "43\n",
      "Enter integers into set C:\n",
      "43\n",
      "21\n",
      "29\n",
      "32\n",
      "39\n",
      "19\n",
      "12\n",
      "16\n",
      "Enter integers into set D:\n",
      "34\n",
      "9\n",
      "19\n",
      "28\n"
     ]
    }
   ],
   "source": [
    "#13. You are given a set A and N number of other sets. These N number of sets have to perform some specific mutation operations \n",
    "#on set A. Your task is to execute those operations and print the sum of elements from set A.\n",
    "\n",
    "seta=set()\n",
    "setb=set()\n",
    "setc=set()\n",
    "setd=set()\n",
    "\n",
    "n=int(input(\"Enter number of integers in set A:\"))\n",
    "\n",
    "print(\"Enter integers into set A:\")\n",
    "for i in range(0,n):\n",
    "    ea=int(input())\n",
    "    seta.add(ea)\n",
    "\n",
    "print(\"Enter integers into set B:\")\n",
    "for i in range(10):\n",
    "    eb=int(input())\n",
    "    setb.add(eb)\n",
    "    \n",
    "print(\"Enter integers into set C:\")\n",
    "for i in range(8):\n",
    "    ec=int(input())\n",
    "    setc.add(ec)\n",
    "    \n",
    "print(\"Enter integers into set D:\")\n",
    "for i in range(4):\n",
    "    ed=int(input())\n",
    "    setd.add(ed)"
   ]
  },
  {
   "cell_type": "code",
   "execution_count": 107,
   "metadata": {},
   "outputs": [
    {
     "name": "stdout",
     "output_type": "stream",
     "text": [
      "set A: {3, 4, 36, 6, 7, 43, 12, 13, 18, 19, 21, 25, 59, 28, 29}\n",
      "set B: {67, 4, 6, 9, 43, 12, 18, 21, 25, 29}\n",
      "set C: {32, 39, 43, 12, 16, 19, 21, 29}\n",
      "set D: {9, 34, 19, 28}\n"
     ]
    }
   ],
   "source": [
    "print(\"set A:\",seta)\n",
    "print(\"set B:\",setb)\n",
    "print(\"set C:\",setc)\n",
    "print(\"set D:\",setd)"
   ]
  },
  {
   "cell_type": "code",
   "execution_count": 108,
   "metadata": {},
   "outputs": [
    {
     "name": "stdout",
     "output_type": "stream",
     "text": [
      "{3, 4, 6, 7, 9, 12, 13, 18, 19, 21, 25, 28, 29, 34, 36, 43, 59}\n"
     ]
    }
   ],
   "source": [
    "#update: \n",
    "\n",
    "seta.update(setd)\n",
    "print(seta)"
   ]
  },
  {
   "cell_type": "code",
   "execution_count": 109,
   "metadata": {},
   "outputs": [
    {
     "name": "stdout",
     "output_type": "stream",
     "text": [
      "{4, 6, 9, 43, 12, 18, 21, 25, 29}\n"
     ]
    }
   ],
   "source": [
    "#intersection_update:\n",
    "\n",
    "seta.intersection_update(setb)\n",
    "print(seta)"
   ]
  },
  {
   "cell_type": "code",
   "execution_count": 114,
   "metadata": {},
   "outputs": [
    {
     "name": "stdout",
     "output_type": "stream",
     "text": [
      "{32, 39, 43, 12, 16, 19, 21, 29}\n"
     ]
    }
   ],
   "source": [
    "seta.symmetric_difference_update(setc)\n",
    "print(seta)"
   ]
  },
  {
   "cell_type": "code",
   "execution_count": 115,
   "metadata": {},
   "outputs": [
    {
     "name": "stdout",
     "output_type": "stream",
     "text": [
      "Sum of elements in set A: 211\n"
     ]
    }
   ],
   "source": [
    "print(\"Sum of elements in set A:\",sum(seta))"
   ]
  },
  {
   "cell_type": "code",
   "execution_count": 146,
   "metadata": {},
   "outputs": [
    {
     "name": "stdout",
     "output_type": "stream",
     "text": [
      "Enter no. of test cases:3\n",
      "Enter Test case: 1\n",
      "Enter no. of elements in set A:5\n",
      "1 2 3 5 6\n",
      "Enter no. of elements in set B:9\n",
      "9 8 5 6 3 2 1 4 7\n",
      "Whether set A is subset of set B: True\n",
      "Enter Test case: 2\n",
      "Enter no. of elements in set A:1\n",
      "2\n",
      "Enter no. of elements in set B:5\n",
      "3 6 5 4 1\n",
      "Whether set A is subset of set B: False\n",
      "Enter Test case: 3\n",
      "Enter no. of elements in set A:7\n",
      "1 2 3 5 6 8 9\n",
      "Enter no. of elements in set B:3\n",
      "9 8 2\n",
      "Whether set A is subset of set B: False\n"
     ]
    }
   ],
   "source": [
    "# 14. You are given two sets, A and B.\n",
    "#Your job is to find whether set A is a subset of set B.\n",
    "\n",
    "#If set A is subset of set B, print True.\n",
    "#If set A is not a subset of set B, print False\n",
    "\n",
    "set_a=set()\n",
    "set_b=set()\n",
    "\n",
    "n=int(input(\"Enter no. of test cases:\"))\n",
    "\n",
    "for i in range(n):\n",
    "    print(\"Enter Test case:\",i+1)\n",
    "    sa=int(input(\"Enter no. of elements in set A:\"))\n",
    "    set_a=set()\n",
    "    set_a=set(map(int,input().split()))\n",
    "    \n",
    "    sb=int(input(\"Enter no. of elements in set B:\"))\n",
    "    set_b=set()\n",
    "    set_b=set(map(int,input().split()))\n",
    "    \n",
    "    print(\"Whether set A is subset of set B:\",set_a.issubset(set_b))"
   ]
  },
  {
   "cell_type": "code",
   "execution_count": null,
   "metadata": {},
   "outputs": [],
   "source": [
    "lst = [int(i) for i in input().split()][:3]"
   ]
  },
  {
   "cell_type": "code",
   "execution_count": 151,
   "metadata": {},
   "outputs": [
    {
     "name": "stdout",
     "output_type": "stream",
     "text": [
      "Enter no. of elements in set A:16\n",
      "1 2 3 4 5 6 7 8 9 10 11 12 23 45 84 78\n",
      "2\n",
      "Enter no. of other sets: 2\n",
      "Enter no. of elements in set B:5\n",
      "1 2 3 4 5\n",
      "Enter no. of elements in set C:3\n",
      "100 11 12\n",
      "Whether set A is a strict superset of set B: True\n",
      "Whether set A is a strict superset of set C: False\n"
     ]
    }
   ],
   "source": [
    "#15. You are given a set  and  other sets.\n",
    "#Your job is to find whether set A is a strict superset of each of the N sets.\n",
    "\n",
    "#Print True, if A is a strict superset of each of the N sets. Otherwise, print False.\n",
    "\n",
    "#A strict superset has at least one element that does not exist in its subset.\n",
    "\n",
    "set_a=set()\n",
    "set_b=set()\n",
    "set_c=set()\n",
    "\n",
    "sa=int(input(\"Enter no. of elements in set A:\"))\n",
    "set_a=set(map(int,input().split()))\n",
    "    \n",
    "print(\"Enter no. of other sets:\", int(input()))\n",
    "\n",
    "sb=int(input(\"Enter no. of elements in set B:\"))\n",
    "set_b=set(map(int,input().split()))\n",
    "    \n",
    "\n",
    "sc=int(input(\"Enter no. of elements in set C:\"))\n",
    "set_c=set(map(int,input().split()))\n",
    "    \n",
    "print(\"Whether set A is a strict superset of set B:\",set_a.issuperset(set_b))\n",
    "print(\"Whether set A is a strict superset of set C:\",set_a.issuperset(set_c))"
   ]
  },
  {
   "cell_type": "code",
   "execution_count": 164,
   "metadata": {},
   "outputs": [
    {
     "name": "stdout",
     "output_type": "stream",
     "text": [
      "Enter number of students:5\n",
      "Harry\n",
      "37.21\n",
      "Berry\n",
      "37.21\n",
      "Tina\n",
      "37.2\n",
      "Akriti\n",
      "41\n",
      "Harsh\n",
      "39\n",
      "[['Harry', 37.21], ['Berry', 37.21], ['Tina', 37.2], ['Akriti', 41.0], ['Harsh', 39.0]]\n"
     ]
    }
   ],
   "source": [
    "#16. Given the names and grades for each student in a class of  students, store them in a nested list and print the name(s) \n",
    "#of any student(s) having the second lowest grade.\n",
    "\n",
    "#Note: If there are multiple students with the second lowest grade, order their names alphabetically and print each name \n",
    "#on a new line.\n",
    "\n",
    "n=int(input(\"Enter number of students:\"))\n",
    "    \n",
    "marks= [[input(), float(input())] for _ in range(n)]\n",
    "    \n",
    "print(marks)"
   ]
  },
  {
   "cell_type": "code",
   "execution_count": 158,
   "metadata": {
    "scrolled": false
   },
   "outputs": [
    {
     "name": "stdout",
     "output_type": "stream",
     "text": [
      "Berry\n",
      "Harry\n"
     ]
    }
   ],
   "source": [
    "second_highest = sorted(list(set([marks for name, marks in marks])))[1]\n",
    "print('\\n'.join([a for a,b in sorted(marks) if b == second_highest]))"
   ]
  },
  {
   "cell_type": "code",
   "execution_count": 167,
   "metadata": {},
   "outputs": [
    {
     "name": "stdout",
     "output_type": "stream",
     "text": [
      "1\n",
      "1\n",
      "1\n",
      "2\n",
      "[[0, 0, 0], [0, 0, 1], [0, 1, 0], [1, 0, 0], [1, 1, 1]]\n"
     ]
    }
   ],
   "source": [
    "#17. You are given three integers x,y and z representing the dimensions of a cuboid along with an integer n. Print a list of all\n",
    "#possible coordinates given by (i,j,k) on a 3D grid where the sum of i+j+k is not equal to n.\n",
    "# Please use list comprehensions rather than multiple loops, as a learning. Print the list in lexicographic increasing order.\n",
    "\n",
    "\n",
    "x = int(input())\n",
    "y = int(input())\n",
    "z = int(input())\n",
    "n = int(input())\n",
    "print( [[i,j,k] for i in range( x + 1) for j in range( y + 1) for k in range(z+1) if ( ( i + j + k ) != n )  ])\n"
   ]
  },
  {
   "cell_type": "code",
   "execution_count": 19,
   "metadata": {},
   "outputs": [
    {
     "name": "stdout",
     "output_type": "stream",
     "text": [
      "3 2\n",
      "1 5 3\n",
      "3 1\n",
      "5 7\n",
      "Final Happiness 1\n"
     ]
    }
   ],
   "source": [
    "#18. There is an array of  integers. There are also  disjoint sets, A and B, each containing  integers. Like all the integers \n",
    "# in set A and dislike all the integers in set B. Your initial happiness is 0. For each i integer in the array, if , i E A add\n",
    "# to your happiness. If i E B, you add -1 to your happiness. Otherwise, your happiness does not change. Output your final \n",
    "#happiness at the end.\n",
    "\n",
    "happiness = 0\n",
    "set_a = set()\n",
    "set_b = set()\n",
    "set_c = set()\n",
    "\n",
    "n,m = input().split()\n",
    "n = int(n)\n",
    "m = int(m)\n",
    "set_c=set(map(int,input().split()))\n",
    "set_a=set(map(int,input().split()))\n",
    "set_b=set(map(int,input().split()))\n",
    "\n",
    "for i in set_c:\n",
    "    if(i in set_a):\n",
    "        happiness+=1\n",
    "    if(i in set_b):\n",
    "        happiness-=1\n",
    "print(\"Final Happiness\",happiness)"
   ]
  },
  {
   "cell_type": "code",
   "execution_count": 13,
   "metadata": {},
   "outputs": [
    {
     "name": "stdout",
     "output_type": "stream",
     "text": [
      "5\n",
      "1 2 3 6 5 4 4 2 5 3 6 1 6 5 3 2 4 1 2 5 1 4 3 6 8 4 3 1 5 6 2\n",
      "8\n"
     ]
    }
   ],
   "source": [
    "#19. Mr. Anant Asankhya is the manager at the INFINITE hotel. The hotel has an infinite amount of rooms.\n",
    "\n",
    "# One fine day, a finite number of tourists come to stay at the hotel.\n",
    "#The tourists consist of:\n",
    "#→ A Captain.\n",
    "#→ An unknown group of families consisting of K members per group where K ≠ 1.\n",
    "\n",
    "#The Captain was given a separate room, and the rest were given one room per group.\n",
    "\n",
    "#Mr. Anant has an unordered list of randomly arranged room entries. The list consists of the room numbers for all of the \n",
    "#tourists. The room numbers will appear K times per group except for the Captain's room.\n",
    "\n",
    "#Mr. Anant needs you to help him find the Captain's room number.\n",
    "#The total number of tourists or the total number of groups of families is not known to you.\n",
    "#You only know the value of K and the room number list.\n",
    "\n",
    "\n",
    "k = int(input())\n",
    "#lst = [int(input(), split(''))]\n",
    "lst = [int(i) for i in input().split()]\n",
    "l = len(lst)\n",
    "\n",
    "for i in range(0,l):\n",
    "    counter = 0\n",
    "    for j in range(0,l):\n",
    "        if(i!=j):\n",
    "            if(lst[i]==lst[j]):\n",
    "                counter = 1\n",
    "                continue\n",
    "    if(counter == 0):\n",
    "        print(lst[i])"
   ]
  }
 ],
 "metadata": {
  "kernelspec": {
   "display_name": "Python 3",
   "language": "python",
   "name": "python3"
  },
  "language_info": {
   "codemirror_mode": {
    "name": "ipython",
    "version": 3
   },
   "file_extension": ".py",
   "mimetype": "text/x-python",
   "name": "python",
   "nbconvert_exporter": "python",
   "pygments_lexer": "ipython3",
   "version": "3.7.3"
  }
 },
 "nbformat": 4,
 "nbformat_minor": 2
}
